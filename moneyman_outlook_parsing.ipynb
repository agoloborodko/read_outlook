{
 "cells": [
  {
   "cell_type": "code",
   "execution_count": 1,
   "metadata": {},
   "outputs": [],
   "source": [
    "import win32com.client\n",
    "import win32com\n",
    "import os\n",
    "import sys\n",
    "from inspect import getmembers\n",
    "import pandas as pd\n",
    "import dateutil.parser\n",
    "from outlook import *\n",
    "import xlsxwriter"
   ]
  },
  {
   "cell_type": "code",
   "execution_count": 2,
   "metadata": {},
   "outputs": [],
   "source": [
    "outlook = win32com.client.Dispatch(\"Outlook.Application\").GetNamespace(\"MAPI\")\n",
    "accounts= win32com.client.Dispatch(\"Outlook.Application\").Session.Accounts"
   ]
  },
  {
   "cell_type": "code",
   "execution_count": 3,
   "metadata": {
    "scrolled": true
   },
   "outputs": [],
   "source": [
    "f = outlook_get_folder_from_name(outlook, 'МаниМен платежи')"
   ]
  },
  {
   "cell_type": "code",
   "execution_count": 5,
   "metadata": {
    "scrolled": true
   },
   "outputs": [
    {
     "name": "stdout",
     "output_type": "stream",
     "text": [
      "whole interval\n",
      "2018-10-02 09:35:39 2019-05-13 13:08:52 \n",
      "\n",
      "desired interval\n",
      "2019-04-01 00:00:00 2019-05-13 13:08:52\n",
      "4508 5571 \n",
      "\n",
      "search start interval\n",
      "2019-04-25 01:50:31 2019-05-13 13:08:52\n",
      "4508 5571 \n",
      "\n",
      "correcting date_end\n",
      "trying index 5571, correction 0.0%, got 2019-05-13 13:08:52\n",
      "correcting date_start\n",
      "trying index 3907, correction -10.8%, got 2019-04-12 12:28:29\n",
      "trying index 3620, correction -5.2%, got 2019-03-29 17:21:40\n",
      "trying index 3668, correction -4.3%, got 2019-03-29 17:26:36\n",
      "trying index 3708, correction -3.6%, got 2019-04-05 02:00:54\n",
      "trying index 3638, correction -1.3%, got 2019-03-29 17:24:05\n",
      "trying index 3664, correction -0.8%, got 2019-03-29 17:26:22\n",
      "trying index 3680, correction -0.5%, got 2019-03-29 21:39:44\n",
      "trying index 3690, correction -0.3%, got 2019-04-01 09:29:31\n",
      "search result interval\n",
      "2019-03-31 10:40:44 2019-05-13 13:08:52 \n",
      "\n",
      "Загружаю 11 из 1882\n",
      "Загружаю 61 из 1882\n",
      "Загружаю 111 из 1882\n",
      "Загружаю 161 из 1882\n",
      "Загружаю 211 из 1882\n",
      "Загружаю 261 из 1882\n",
      "Загружаю 311 из 1882\n",
      "Загружаю 361 из 1882\n",
      "Загружаю 411 из 1882\n",
      "Загружаю 461 из 1882\n",
      "Загружаю 511 из 1882\n",
      "Загружаю 561 из 1882\n",
      "Загружаю 611 из 1882\n",
      "Загружаю 661 из 1882\n",
      "Загружаю 711 из 1882\n",
      "Загружаю 761 из 1882\n",
      "Загружаю 811 из 1882\n",
      "Загружаю 861 из 1882\n",
      "Загружаю 911 из 1882\n",
      "Загружаю 961 из 1882\n",
      "Загружаю 1011 из 1882\n",
      "Загружаю 1061 из 1882\n",
      "Загружаю 1111 из 1882\n",
      "Загружаю 1161 из 1882\n",
      "Загружаю 1211 из 1882\n",
      "Загружаю 1261 из 1882\n",
      "Загружаю 1311 из 1882\n",
      "Загружаю 1361 из 1882\n",
      "Загружаю 1411 из 1882\n",
      "Загружаю 1461 из 1882\n",
      "Загружаю 1511 из 1882\n",
      "Загружаю 1561 из 1882\n",
      "Загружаю 1611 из 1882\n",
      "Загружаю 1661 из 1882\n",
      "Загружаю 1711 из 1882\n",
      "Загружаю 1761 из 1882\n",
      "Загружаю 1811 из 1882\n",
      "Загружаю 1861 из 1882\n"
     ]
    }
   ],
   "source": [
    "date_start=pd.to_datetime('2019-04-01', format='%Y-%m-%d')\n",
    "date_end=pd.to_datetime('2019-05-15', format='%Y-%m-%d')\n",
    "\n",
    "msg_list = extract_msg_by_dates(outlook, 'МаниМен платежи', date_start, date_end)"
   ]
  },
  {
   "cell_type": "code",
   "execution_count": 11,
   "metadata": {},
   "outputs": [
    {
     "name": "stdout",
     "output_type": "stream",
     "text": [
      "Обрабатываю 11 из 1882\n",
      "Обрабатываю 61 из 1882\n",
      "Обрабатываю 111 из 1882\n",
      "Обрабатываю 161 из 1882\n",
      "Обрабатываю 211 из 1882\n",
      "Обрабатываю 261 из 1882\n",
      "Обрабатываю 311 из 1882\n",
      "Обрабатываю 361 из 1882\n",
      "Обрабатываю 411 из 1882\n",
      "Обрабатываю 461 из 1882\n",
      "Обрабатываю 511 из 1882\n",
      "Обрабатываю 561 из 1882\n",
      "Обрабатываю 611 из 1882\n",
      "Обрабатываю 661 из 1882\n",
      "Обрабатываю 711 из 1882\n",
      "Обрабатываю 761 из 1882\n",
      "Обрабатываю 811 из 1882\n",
      "Обрабатываю 861 из 1882\n",
      "Обрабатываю 911 из 1882\n",
      "Обрабатываю 961 из 1882\n",
      "Обрабатываю 1011 из 1882\n",
      "Обрабатываю 1061 из 1882\n",
      "Обрабатываю 1111 из 1882\n",
      "Обрабатываю 1161 из 1882\n",
      "Обрабатываю 1211 из 1882\n",
      "Обрабатываю 1261 из 1882\n",
      "Обрабатываю 1311 из 1882\n",
      "Обрабатываю 1361 из 1882\n",
      "Обрабатываю 1411 из 1882\n",
      "Обрабатываю 1461 из 1882\n",
      "Обрабатываю 1511 из 1882\n",
      "Обрабатываю 1561 из 1882\n",
      "Обрабатываю 1611 из 1882\n",
      "Обрабатываю 1661 из 1882\n",
      "Обрабатываю 1711 из 1882\n",
      "Обрабатываю 1761 из 1882\n",
      "Обрабатываю 1811 из 1882\n",
      "Обрабатываю 1861 из 1882\n"
     ]
    }
   ],
   "source": [
    "df_payments = pd.DataFrame()\n",
    "start = msg_list[0][0]\n",
    "end = start + len(msg_list)\n",
    "errors = []\n",
    "\n",
    "for msg in msg_list:\n",
    "    if msg[0] % 50 == 0:\n",
    "        print('Обрабатываю {} из {}'.format(msg[0] - start, end - start))\n",
    "    try:\n",
    "        df_pay = None\n",
    "        dfs = pd.read_html(msg[2])\n",
    "        for df in dfs:\n",
    "            if df.iloc[0, 0] == 'ID клиента':\n",
    "                df_pay = df\n",
    "        if df_pay is not None:\n",
    "            df_pay.set_axis(labels=df_pay.iloc[0], axis='columns', inplace=True)\n",
    "            df_pay.drop(0, inplace=True)\n",
    "            df_pay.set_axis(labels=[msg[0]], axis='index', inplace=True)\n",
    "            df_pay.loc[msg[0], 'inbox_date'] = msg[1]\n",
    "            df_payments = df_payments.append(df_pay, sort=False)\n",
    "    except Exception as e:\n",
    "        errors.append([msg[0], msg[1], e])"
   ]
  },
  {
   "cell_type": "code",
   "execution_count": 12,
   "metadata": {},
   "outputs": [],
   "source": [
    "df_errors = pd.DataFrame(errors)\n",
    "\n",
    "writer = pd.ExcelWriter('moneyman_parse.xlsx', engine='xlsxwriter')\n",
    "df_errors.to_excel(writer, sheet_name='errors')\n",
    "df_payments.to_excel(writer, sheet_name='payments')\n",
    "\n",
    "writer.save()"
   ]
  }
 ],
 "metadata": {
  "hide_input": false,
  "kernelspec": {
   "display_name": "Python 3",
   "language": "python",
   "name": "python3"
  },
  "language_info": {
   "codemirror_mode": {
    "name": "ipython",
    "version": 3
   },
   "file_extension": ".py",
   "mimetype": "text/x-python",
   "name": "python",
   "nbconvert_exporter": "python",
   "pygments_lexer": "ipython3",
   "version": "3.7.3"
  }
 },
 "nbformat": 4,
 "nbformat_minor": 2
}
